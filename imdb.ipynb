{
 "cells": [
  {
   "cell_type": "code",
   "execution_count": 33,
   "metadata": {},
   "outputs": [
    {
     "name": "stdout",
     "output_type": "stream",
     "text": [
      "Requirement already satisfied: spacy in c:\\users\\user\\anaconda3\\lib\\site-packages (3.4.1)\n",
      "Requirement already satisfied: spacy-legacy<3.1.0,>=3.0.9 in c:\\users\\user\\anaconda3\\lib\\site-packages (from spacy) (3.0.10)\n",
      "Requirement already satisfied: langcodes<4.0.0,>=3.2.0 in c:\\users\\user\\anaconda3\\lib\\site-packages (from spacy) (3.3.0)\n",
      "Requirement already satisfied: preshed<3.1.0,>=3.0.2 in c:\\users\\user\\anaconda3\\lib\\site-packages (from spacy) (3.0.7)\n",
      "Requirement already satisfied: tqdm<5.0.0,>=4.38.0 in c:\\users\\user\\anaconda3\\lib\\site-packages (from spacy) (4.62.3)\n",
      "Requirement already satisfied: pathy>=0.3.5 in c:\\users\\user\\anaconda3\\lib\\site-packages (from spacy) (0.6.2)\n",
      "Requirement already satisfied: srsly<3.0.0,>=2.4.3 in c:\\users\\user\\anaconda3\\lib\\site-packages (from spacy) (2.4.4)\n",
      "Requirement already satisfied: jinja2 in c:\\users\\user\\anaconda3\\lib\\site-packages (from spacy) (2.11.3)\n",
      "Requirement already satisfied: numpy>=1.15.0 in c:\\users\\user\\anaconda3\\lib\\site-packages (from spacy) (1.20.3)\n",
      "Requirement already satisfied: catalogue<2.1.0,>=2.0.6 in c:\\users\\user\\anaconda3\\lib\\site-packages (from spacy) (2.0.8)\n",
      "Requirement already satisfied: cymem<2.1.0,>=2.0.2 in c:\\users\\user\\anaconda3\\lib\\site-packages (from spacy) (2.0.6)\n",
      "Requirement already satisfied: spacy-loggers<2.0.0,>=1.0.0 in c:\\users\\user\\anaconda3\\lib\\site-packages (from spacy) (1.0.3)\n",
      "Requirement already satisfied: typer<0.5.0,>=0.3.0 in c:\\users\\user\\anaconda3\\lib\\site-packages (from spacy) (0.4.2)\n",
      "Requirement already satisfied: thinc<8.2.0,>=8.1.0 in c:\\users\\user\\anaconda3\\lib\\site-packages (from spacy) (8.1.4)\n",
      "Requirement already satisfied: wasabi<1.1.0,>=0.9.1 in c:\\users\\user\\anaconda3\\lib\\site-packages (from spacy) (0.10.1)\n",
      "Requirement already satisfied: packaging>=20.0 in c:\\users\\user\\anaconda3\\lib\\site-packages (from spacy) (21.0)\n",
      "Requirement already satisfied: pydantic!=1.8,!=1.8.1,<1.10.0,>=1.7.4 in c:\\users\\user\\anaconda3\\lib\\site-packages (from spacy) (1.9.2)\n",
      "Requirement already satisfied: requests<3.0.0,>=2.13.0 in c:\\users\\user\\anaconda3\\lib\\site-packages (from spacy) (2.18.4)\n",
      "Requirement already satisfied: murmurhash<1.1.0,>=0.28.0 in c:\\users\\user\\anaconda3\\lib\\site-packages (from spacy) (1.0.8)\n",
      "Requirement already satisfied: setuptools in c:\\users\\user\\anaconda3\\lib\\site-packages (from spacy) (58.0.4)\n",
      "Requirement already satisfied: pyparsing>=2.0.2 in c:\\users\\user\\anaconda3\\lib\\site-packages (from packaging>=20.0->spacy) (3.0.4)\n",
      "Requirement already satisfied: smart-open<6.0.0,>=5.2.1 in c:\\users\\user\\anaconda3\\lib\\site-packages (from pathy>=0.3.5->spacy) (5.2.1)\n",
      "Requirement already satisfied: typing-extensions>=3.7.4.3 in c:\\users\\user\\anaconda3\\lib\\site-packages (from pydantic!=1.8,!=1.8.1,<1.10.0,>=1.7.4->spacy) (3.10.0.2)\n",
      "Requirement already satisfied: urllib3<1.23,>=1.21.1 in c:\\users\\user\\anaconda3\\lib\\site-packages (from requests<3.0.0,>=2.13.0->spacy) (1.22)\n",
      "Requirement already satisfied: chardet<3.1.0,>=3.0.2 in c:\\users\\user\\anaconda3\\lib\\site-packages (from requests<3.0.0,>=2.13.0->spacy) (3.0.4)\n",
      "Requirement already satisfied: certifi>=2017.4.17 in c:\\users\\user\\anaconda3\\lib\\site-packages (from requests<3.0.0,>=2.13.0->spacy) (2021.10.8)\n",
      "Requirement already satisfied: idna<2.7,>=2.5 in c:\\users\\user\\anaconda3\\lib\\site-packages (from requests<3.0.0,>=2.13.0->spacy) (2.6)\n",
      "Requirement already satisfied: blis<0.8.0,>=0.7.8 in c:\\users\\user\\anaconda3\\lib\\site-packages (from thinc<8.2.0,>=8.1.0->spacy) (0.7.8)\n",
      "Requirement already satisfied: confection<1.0.0,>=0.0.1 in c:\\users\\user\\anaconda3\\lib\\site-packages (from thinc<8.2.0,>=8.1.0->spacy) (0.0.3)\n",
      "Requirement already satisfied: colorama in c:\\users\\user\\anaconda3\\lib\\site-packages (from tqdm<5.0.0,>=4.38.0->spacy) (0.4.4)\n",
      "Requirement already satisfied: click<9.0.0,>=7.1.1 in c:\\users\\user\\anaconda3\\lib\\site-packages (from typer<0.5.0,>=0.3.0->spacy) (8.0.3)\n",
      "Requirement already satisfied: MarkupSafe>=0.23 in c:\\users\\user\\anaconda3\\lib\\site-packages (from jinja2->spacy) (1.1.1)\n"
     ]
    }
   ],
   "source": [
    "!pip install spacy"
   ]
  },
  {
   "cell_type": "code",
   "execution_count": 34,
   "metadata": {},
   "outputs": [],
   "source": [
    "import requests\n",
    "from bs4 import BeautifulSoup\n",
    "from bs4 import SoupStrainer\n",
    "from numpy import reshape\n",
    "import re\n",
    "import nltk\n",
    "import spacy"
   ]
  },
  {
   "cell_type": "code",
   "execution_count": 13,
   "metadata": {},
   "outputs": [],
   "source": [
    "url = 'https://www.imdb.com/title/tt10857160/reviews?ref_=tt_urv'"
   ]
  },
  {
   "cell_type": "code",
   "execution_count": 14,
   "metadata": {},
   "outputs": [],
   "source": [
    "response = requests.get(url)"
   ]
  },
  {
   "cell_type": "code",
   "execution_count": 15,
   "metadata": {},
   "outputs": [
    {
     "data": {
      "text/plain": [
       "200"
      ]
     },
     "execution_count": 15,
     "metadata": {},
     "output_type": "execute_result"
    }
   ],
   "source": [
    "response.status_code"
   ]
  },
  {
   "cell_type": "code",
   "execution_count": 26,
   "metadata": {},
   "outputs": [
    {
     "data": {
      "text/plain": [
       "{'User-Agent': 'python-requests/2.18.4', 'Accept-Encoding': 'gzip, deflate', 'Accept': '*/*', 'Connection': 'keep-alive'}"
      ]
     },
     "execution_count": 26,
     "metadata": {},
     "output_type": "execute_result"
    }
   ],
   "source": [
    "#response.request.headers"
   ]
  },
  {
   "cell_type": "code",
   "execution_count": null,
   "metadata": {},
   "outputs": [],
   "source": [
    "#response.text"
   ]
  },
  {
   "cell_type": "code",
   "execution_count": 16,
   "metadata": {},
   "outputs": [],
   "source": [
    "#page = BeautifulSoup(response.text, 'html.parser')"
   ]
  },
  {
   "cell_type": "code",
   "execution_count": null,
   "metadata": {},
   "outputs": [],
   "source": [
    "#print(page.prettify())"
   ]
  },
  {
   "cell_type": "code",
   "execution_count": 8,
   "metadata": {},
   "outputs": [
    {
     "data": {
      "text/plain": [
       "<title>She-Hulk: Defensora de héroes (TV Series 2022– ) - She-Hulk: Defensora de héroes (TV Series 2022– ) - User Reviews - IMDb</title>"
      ]
     },
     "execution_count": 8,
     "metadata": {},
     "output_type": "execute_result"
    }
   ],
   "source": [
    "#page.title"
   ]
  },
  {
   "cell_type": "code",
   "execution_count": 9,
   "metadata": {},
   "outputs": [
    {
     "data": {
      "text/plain": [
       "'She-Hulk: Defensora de héroes (TV Series 2022– ) - She-Hulk: Defensora de héroes (TV Series 2022– ) - User Reviews - IMDb'"
      ]
     },
     "execution_count": 9,
     "metadata": {},
     "output_type": "execute_result"
    }
   ],
   "source": [
    "#page.title.string"
   ]
  },
  {
   "cell_type": "code",
   "execution_count": 53,
   "metadata": {},
   "outputs": [
    {
     "data": {
      "text/plain": [
       "<p>\n",
       "<span class=\"nobr\">\n",
       "<a class=\"link ghost\" href=\"/title/tt10857160/awards\">Awards</a>\n",
       "<span class=\"ghost\">|</span></span> <span class=\"nobr\">\n",
       "<a class=\"link\" href=\"/title/tt10857160/faq\">FAQ</a>\n",
       "<span class=\"ghost\">|</span></span> <span class=\"nobr\">\n",
       "<a class=\"link\" href=\"/title/tt10857160/ratings\">User Ratings</a>\n",
       "<span class=\"ghost\">|</span></span> <span class=\"nobr\">\n",
       "<a class=\"link\" href=\"/title/tt10857160/externalreviews\">External Reviews</a>\n",
       "<span class=\"ghost\">|</span></span> <span class=\"nobr\">\n",
       "<a class=\"link ghost\" href=\"/title/tt10857160/criticreviews\">Metacritic Reviews</a>\n",
       "</span> </p>"
      ]
     },
     "execution_count": 53,
     "metadata": {},
     "output_type": "execute_result"
    }
   ],
   "source": [
    "#page.p"
   ]
  },
  {
   "cell_type": "code",
   "execution_count": 17,
   "metadata": {},
   "outputs": [],
   "source": [
    "comentarios = BeautifulSoup(response.text, \"html.parser\", parse_only=SoupStrainer(class_=\"text show-more__control\"))"
   ]
  },
  {
   "cell_type": "code",
   "execution_count": 27,
   "metadata": {},
   "outputs": [],
   "source": [
    "#puntajes = BeautifulSoup(response.text, \"html.parser\", parse_only=SoupStrainer(class_=\"rating-other-user-rating\"))\n",
    "#print(puntajes)\n",
    "#puntajes = re.findall(r'\\b\\d+\\b', puntajes.text)\n",
    "#reshape(puntajes, (puntajes.lenght))"
   ]
  },
  {
   "cell_type": "code",
   "execution_count": 40,
   "metadata": {},
   "outputs": [
    {
     "data": {
      "text/plain": [
       "<div class=\"text show-more__control\">1/5 stars. I have all of the She-Hulk comic runs from Savage She-Hulk #1 to the present day run currently sold in your comic shops at the time this Disney+ show released. She is one of my favorite Marvel women and ought to be treated with high respect while having a lot of fun. But the MCU failed to capture the charm, fun, and heart of the lovely green lawyer from the comics. This show suffers from the same problems that the MCU Phase 4 has...it doesn't know what it wants to be, it has rejected its former audience that made it an epic success for an entirely imagined one instead, and it doesn't know where it is going. Specifically in She-Hulk: Attorney-at-Law's case, it did not flesh out the characters well-enough to make the audience care. Who are these supporting cast members? Why are they so one-dimensional? Why should I care? Where are all the actual jokes? The parts where Jen is actually trying to be a lawyer for superheroes or talking in a court scene are the funniest, but in too many other areas it tries too hard to be funny. Some people will watch this show and never laugh even where it is trying to tell a joke, which is rough because this is supposed to be a comedy. It is too bad the insecurities of the writers were projected into Jen Walters. While the pot shots and zingers may make them feel vindicated in this world, it will most likely turn off audience members or just make them roll their eyes. The best advice I could give is remember and respect your audience, respect your characters, make things interesting, know where to start, go, and stop, and finally have some fun. This could've been great but sadly it is forgettable. Most people will struggle to watch through all the episodes once, and very few will ever re-watch them.</div><div class=\"text show-more__control\">This is truly bottom of the barrel stuff. Nobody asked for this show but it was shoved on us hapless souls anyway.<br/><br/>Walters came across as obnoxious, vacuous and full of herself. There was no effort made at all towards character development in the first episode which looks like a poorly crafted music video from the 90s.<br/><br/>The first episode obviously serves as a placeholder for more shlock. This show is trying to be sex and the city with a pg13 rating and female Shrek.<br/><br/>Marvel's idea of setting up strong female characters with exposition dumps instead of focusing on having them go through a journey to realize their true potential.<br/><br/>Mediocre shows like Miss Marvel and now She Hulk which should in fact be called 'The Abomination' or She Shrek: Attorney at Yawn.. should just not be allowed to see daylight.<br/><br/>At the end of the first episode I could feel the bile at the back of my throat and a haunting realization that Marvel has officially run out of ideas.<br/><br/>So its basically running on fumes now. The way she gains her powers is a joke and the way she 'overcomes' the cons of being a Hulk is so laughable and indigestible that I have been having digestion pills since I saw the episode today.<br/><br/>This show is bad. Really really bad. Wonder woman 1984 times 2 bad.</div><div class=\"text show-more__control\">Look, all the people giving the show 1 star reviews, because of some comment about cat calling in the first episode, don't really get to the heart of the problem. Can we please just get one of the terrible Marvel shows with a straight white male lead, so we can shut up about people hating women or people with dark skin?<br/><br/>The show isn't funny, it's not exciting, it's not emotional, it doesn't seem to have a useful message, so what's left at that point. Are there so many people out there, that can watch a boring unfunny show, just because it so amazing to have a female feminist superhero on screen?<br/><br/>The 4th wall breaking seems completely out of place and isn't used for anything other than repetitive exposition, so it just comes off as cringy.<br/><br/>Tatiana Maslany is a great actress and she's not unlikable in this show, she just doesn't have much to work with. If the best the writers can come up with is a joke about her falling off a chair, then you could have put Meryl Streep in the lead an still not have anything to show for it.<br/><br/>Honestly Marvel, hand the TV shows back to the people who did the Netflix shows. Daredevil, The Punisher and Jessica Jones were very good for the most part, and you're shooting yourself in the foot if you continue to go down the path of the Disney era shows, almost all of which have been mediocre at best.</div><div class=\"text show-more__control\">I was dreading, that I was gonna have to watch yet another origin story with a hero(ine) who was to struggle and then transform into a superhero. Thankfully, they cut it short. So now I get to just enjoy some she-hulk, that is presented to me in a light manner. I am forty years old and not a nerd. Superheroes are fun, but I couldn't care less if a director strayed from the comic books (for some people almost scripture) that appeared at some point in my childhood. I wish the comic book fans could relax a little and just enjoy something new. So, instead of just giving it one-star reviews- which is completely ridiculous and based on emotion only- just re-read the comics and sit this one out. For the love of God.</div><div class=\"text show-more__control\">After almost 60 years of collecting comic books, I've learned to appreciate superhero comics that are just flat out funny. I bought She Hulk, when I was younger, because I expected more of 'Hulk smash!', but I got something more. A main character that realized the absurdity of its fantastical premise and was able to discuss just that overblown concept with the reader (Long before Deadpool). This, without any spoilers, is what this show delivers, along with some flat out laughs.</div><div class=\"text show-more__control\">I knew it couldn't be good, I saw the impressions &amp; ratings, I read all the available reviews, I felt it in my \"blood\" to be a deception, but I was half-wrong with the balance plate heading and converging toward a shaky 4.<br/><br/><ul><li>(+) It is good for kids knowing nothing about the Marvel She-Hulk Comics magazines and stories</li><li>(+-) It is funny and unrealistic in a cringey way</li><li>(-) It is horrible and terrible at the same time in taking us non-kids mortals for clowns in a big circus</li><li>(-) The VFX/SFX/CGI section is good in a kindergarten-way good</li><li>(-) The yo-yo screenplay storyline is all messy, false and a big lie to our faces</li><li>(-) The origin of She-Hulk and how she gained her powers is a total disgrace and disaster</li><li>(-) The development and \"semi-mastering\" of her powers like cans of tuna fishes</li><li>(-) Her transformations and unrealistic state of her cloths after that are like as if your hairs are caught on fire every time</li><li>(-) The disgusting runtime of 35 minutes is basically 5 minutes less as if that runtime was a big 75 minutes as seen and masterminded probably by Jessica Gao!</li></ul><br/><br/>The huge acting talents of Tatiana Maslany are wasted in this production, I can already tell, and Mark Rufalo's presence and cameo in this episode would be the last hopefully.<br/><br/>Jessica Gao, focus on Jennifer Walters and her own story. 8 more episodes are left to remedy to your utter failure. Though, I know that they are already finished and what is done is done!</div><div class=\"text show-more__control\">For those that don't know the comics, She-Hulk has often addressed the reader (viewer) in a Deadpool-like fashion and this addition to the MCU is very welcomed.<br/><br/>Light in tone, funny and happy to lean into the silly elements (eg. Natasha telling a lullaby calmed Hulk how?) I'm looking forward to seeing how the show develops after a good introductory episode.</div><div class=\"text show-more__control\">*Rating may change up or down over time review is based on the pilot* **RATING HAS WENT DOWN FROM 7/10 TO A 6/10 SO FAR UP UNTIL EP 4**<br/><br/>Please just read my review, I was going in this show with low expectations but I have reasons to my rating I put here. *I'll explain why it dropped a little as well*<br/><br/>Let's just start by saying I had my hopes very low for this show. I think wandavision and loki have been the highest points of this MCU and hawakeye/Falcon/moonknight we're okay.... Ms marvel kind of was disappointing so I didn't really know where this MCU show would go after.<br/><br/>Then in comes She-hulk, started off a little too fast for my taste, kind of rushes into things, but I feel once we get the full scope of how she gets these powers it's really nice to see it unfold afterwords.<br/><br/>Also let me say the EFFECTS ARE AWESOME. Ms marvel had some garbage effects and I wasn't too convinced when I saw the trailer to this, they looked very weird. But based on the first episode these effects were very nice. I think she Hulk looks fine in CGI and the effects are just well done for a TV show. Let's be honest it can be worse like CW.<br/><br/>I feel like they did put a lot of attention to the show but some things they didn't really focus on which is disappointing like who she hulk TRULY is as a person and why she wants to endure this stuff. Sure she kinda has no choice because she didn't ask to have these powers but I want to know what drives her... (again, this review can change if the show gets better or expands upon this)<br/><br/>*went down a bit because it just kept getting lost in its own merit, just not that funny becomes uninteresting, and just very degrading at times, felt like a chore, sucks because I thought the pilot was fine, it wasn't the best but I liked the dynamic between him and her and I thought it would be more of that, but she hulk alone just can't hold this show together at all, and the cheesy comedy doesn't help it at all.</div><div class=\"text show-more__control\">Unlike DC, which seems to have a standard inviolable template for telling a superhero story, Marvel continues to play with various genres and so make much more entertaining movies and shows. She-Hulk, Attorney at Law, is a hilarious take on the reluctant superhero trope. She is not traumatized nor does she have a savior complex. She just wants to get on with her life and career. And a lot of the fun of the pilot is that Bruce kinda resents this and how easy the transition to a Hulk is. If you don't have a fragile ideology or a rigid commitment to the \"Canon of the Printed Comic\" you will love this. And Tatania is the perfect actress for the role!</div><div class=\"text show-more__control\">This isn't bad I just don't like the premise and who they made the hulk into; he went from being one of the most feared, unpredictable and strongest in the mcu to now being a laughing stock. And in she-hulk, based on the first episode at least, it feels like they're trying to tick off boxes while they're at it. I'd like to see the chaos that'd unfold if Marvel or DC changed or brought a male version of a renowned female hero like Wonder Woman or a Valkyrie. All hulk is used for here is being trashed to pump up she-hulk, and he's been kept as \"smart hulk\" for such a long time even though it's short lived in the comics. Like really hulk couldn't stop a car that's not even coming at speed, really?! Anyway, if you wanna make a strong female hero, just simply make her strong. I feel like it's more credible to see her kicking butt and people liking that. If you have to degrade somebody in order to pump up a someone it takes it away. Just create a bad^ss character instead like Captain marvel, Katniss Everdeen in 'The Hunger Games', Letty Ortiz in 'Fast and furious', Lara Croft, or kill bill. You don't have to make her Mary Sue.<br/><br/>As for the show itself it's not bad as I said, nothing particularly stands out or makes it promising. It's a lighthearted, nothing dramatic or intellectual with the story yet, and a lot of comedic bits but nothing that feels new. I think the runtime is great 'cause not much really happened in the episode so I feel like an hour would be a drag. It's very upbeat. Disney could do much better than this but it's not the first time I've been disappointed by a Disney marvel production.<br/><br/>It's just pushing agenda instead of focusing on the superhero aspect of it and I suspect a lot of people are going to hate it for that, and those who love it will probably go 'oh you boys can't handle a strong female lead' or empowerment bla bla bla to defend it. There's nothing to make it feel special, it's not really funny, not really dramatic, plot's not really staggering, not really thrilling; and it's not really bad neither is it really good. Just have to wait.<br/><br/>I'll wait a few episodes to rate but I don't see the vibe of the show changing. 5/10 so far.<br/><br/>Updates:\n",
       "Three episodes in and nothing's changed.</div><div class=\"text show-more__control\">I started watching the first episode feeling this is gonna sink, cause in the past I've never really like the She Hulk character, and it's not because she's a woman, it's because she always came across has an annoying parody of her male counterpart.<br/><br/>But I found the first episode quite enjoyable, now I don't think this is gonna be considered a masterpiece. But at the moment it comes across as a light on its feet Marvel show. Tatiana Maslany does bring a girlish charm to the role of Jennifer Walters and She Hulk. There are moments that pays homage to the 1978 - 1982 Hulk series. It has a few satirical moments, and the CGI is in pretty much overuse, but it's just a fun show nothing more.</div><div class=\"text show-more__control\">She-Hulk: Attorney at Law tells the story of Jennifer Walters/She-Hulk(Tatiana Maslany). Jen has to balance her life between being a lawyer in her 30s &amp; also being a giant superhuman Hulk.<br/><br/>She-Hulk: Attorney at Law is an entertaining show. Creator Jessica Gao has given us a meta &amp; enjoyable show, referencing &amp; roasting the Marvel Cinematic Universe. Two episodes in, there are barely any action set pieces. This seems to be a recurring problem with recent Disney+ shows set in the Marvel Cinematic Universe. The visual effects are passable but, still questionable. Especially when it comes to She-Hulk's performance capture CGI. The humor is a bit hit and miss. This is not ideal because She-Hulk: Attorney at Law is classified as the Marvel Cinematic Universe's first legal comedy. Tatiana Maslany is the star of the show as Jennifer Walters/She-Hulk. Maslany effortlessly carries the show on her shoulders, with her spectacular performance. Mark Ruffalo is outstanding as Bruce Banner/Smart Hulk. Maslany &amp; Ruffalo's banter &amp; camaraderie, is the highlight of the show. Ginger Gonzaga is brilliant as Nikki Ramos. Jameela Jamil is perfect as Titania. Tim Roth is excellent as Emil Blonsky/Abomination. It's exciting to see Roth reprise his role, 14 years after The Incredible Hulk(2008). The supporting cast is memorable. She-Hulk: Attorney at Law is a must watch for Marvel Cinematic Universe fans. I'm sure it will get better &amp; better with each passing episode.</div><div class=\"text show-more__control\">I started out disliking the show but it's grown on me. It's light and not serious. It's entertaining for what it is. Tatiana Maslany is great in the role.<br/><br/>I've not come anywhere close to the point of LOVING it. However, I have found myself looking forward to the next episode. That's gotta be worth something.<br/><br/>Yeah, the CGI is bad. That's true. It's very uneven. Sometimes it'll look OK. Other times it looks like rubber.<br/><br/>And I've noticed that they can't decide how tall She-Hulk is supposed to be or how muscular. At times she's clearly 7' tall but then others she's only a head above an average 5'3\" woman in the background. Then sometimes she's normal toned only to have hulking biceps later.<br/><br/>That's a quality control and consistency issue. I try to ignore it because it's really not important to the story but the problem is there.<br/><br/>I'll keep watching for now, I suppose. So far it deserves half a score at 5 stars out of 10. It's not terribly extraordinary but not unwatchable either with some fun moments. Tatiana is carrying the whole show, that's for sure. She's a big part of what keeps me coming back.</div><div class=\"text show-more__control\">A legal comedy with superhero elements that is not only told from a female perspective but actually written and directed by women is a bold new direction for Marvel. Of course it'll take a few episodes for this show to hit all the right notes, especially with an episode length of 30 minutes that doesn't allow for a lot of plot development. But the first episode wasn't bad at all and I'm confident they'll work out the minor kinks.<br/><br/>One such kink is the CGI, which isn't entirely up to MCU movie standards. It's not as bad as CGI Luke in season 2 of The Mandalorian but the facial expressions don't feel completely natural. I've seen a few text-to-facial-animation solutions and the expressions look very similar here, as if they were software-animated rather than motion-captured. It's probably a budget limitation. Other than that, my only complaint is the runtime. The plot feels rather condensed in this half-hour format.<br/><br/>Now for the elephant in the room that has the self-appointed anti-wokeness police REEEEEEing at the top of their lungs. The superhero genre is a power fantasy, and for once it's not about a Billy Batson who stumbles across a wizard and immediately gains the combined powers of all the Greek gods and heroes. Or an orphaned tween who becomes the sidekick of none other than Batman and learns in record time how to beat up adult criminals twice his size. Or a teenager who suddenly develops mutant powers, finds a Nova Corps helmet, etc. Pp. You get the picture.<br/><br/>Point being, this is a power fantasy by and for women. It should come as no surprise that it involves a lot of the things women have to put up with on a daily basis. Such as condescending men who assume women couldn't possibly naturally excel at anything, especially not to the point of surpassing men.<br/><br/>Being surprisingly great at something is the whole point of a power fantasy. Hal Jordan comes into possession of a Green Lantern ring, everybody on Oa doubts that a primitive human could do the job, but he proves everyone wrong as he quickly surpasses his teachers and it doesn't take long before he single-handedly saves Earth and Oa and the entire universe. But when a woman so much as masters emotional self-control faster than her cousin Bruce did, everyone loses their expletive minds to quote Nolan's Joker. Even when it's true to the comic books, where Jennifer also retained her persona and intellect in Hulk form.<br/><br/>Bottom line: I think female Marvel fans will love this show. As a male fan I realize that it wasn't made exclusively for my demographic but I still find it very enjoyable. MCU Bruce was always a bit dorky and I really don't feel he's getting an unfair or uncharacteristic treatment here. I can't wait to see where Kat Coiro, Jessica Gao et al are taking the MCU's latest offering.</div><div class=\"text show-more__control\">This show brings one hell of a good start. I'm just so happy, oh my god, I have no idea what to say except amazing and beautiful! For me this is \"a Must See\" TV show on Disney+.<br/><br/>Tatiana Maslany was brilliant as she usually is, but as Jennifer Walters / She-Hulk was a dream come true to the MCU! It's a pretty good comedy and action MCU that any Marvel films has never been done before. This show brings a pretty good Deadpool and Guardians of the Galaxy vibes!<br/><br/>I would be very much looking forward to see this show over and over again!</div><div class=\"text show-more__control\">She-Hulk: Attorney at Law is a series that jumpstarts into action. It's an adrenaline-fueled, adventurous journey that ties into Marvel superhero movies. The series tells the engaging story about a lawyer who might lose her job due to some very interesting conditions.<br/><br/>She-Hulk: Attorney at Law features Jennifer Walters, an attorney living in Los Angeles. Jen happens to be the cousin of Bruce Banner (the Hulk). Unexpectedly, Jen and Bruce got into a car crash. After the crash, some of Bruce's blood got into Jen's wounds, which caused her to transform into an adapted version of the Hulk-hence, the name She-Hulk.<br/><br/>The main characters in this series are She-Hulk (Jennifer Walters), Bruce Banner (Mark Ruffalo), Nikki Ramos (Ginger Gonzaga), Titania (Jameela Jamil) and Abomination (Tim Roth). These actors impersonate their characters incredibly well. Additionally, the sets and animation are extremely realistic. When there is a fight, the animation made my heart beat super fast. In the first episode, my favorite part is when Bruce is training Jen to learn how to control the intense amount of strength she has. After demonstrating how to throw boulders, for example, she adapts quickly, and sometimes even does the exercise better than the Hulk himself. I also appreciate the quote when Bruce proclaims that what triggers turning into a hulk is anger and fear, and Jen responds, \"Those are like the baseline of any women existing.\" It's hilarious and also true. I would recommend watching previous Marvel movies, especially the ones that include the Hulk. However, it's not a necessity, although it would help knowing the backstory of how hulks were created.<br/><br/>The message of this series is that females can be strong, too. I believe that the \"She-Hulk\" nickname isn't merely random, but has a meaning to it, which is female empowerment. Furthermore, this series establishes that women's emotions are normal, and that it is okay to have strong feelings, including anger. There is a lot of fighting and violence, and it has rough language. If young kids have seen other Marvel movies with parent/guardian approval, they should be fine watching this series.<br/><br/>I give She-Hulk: Attorney at Law 4.5 out of 5 stars and recommend it for ages 8 to 18, plus adults. By Sydney S., KIDS FIRST!</div><div class=\"text show-more__control\">The show is just OKAY. It's not \"garbage,\" it's not \"the best thing ever,\" it is just okay, and there is absolutely nothing wrong with that.<br/><br/>At times (episode 4) it feels like the writers wanted to bash the audience over the head with the social message, but it's nothing worth all of the vitriol and 1-star ratings I'm seeing.<br/><br/>On the flipside, the comedy doesn't land for me almost at all. The character dynamics (i.e.: getting to see Jen's interactions with her father) are charming and really hook me, but the show fails to make me laugh. The jokes are just too telegraphed before they're even attempted.<br/><br/>Overall, this show is a 5.5/10 for me. Nothing to hate, nothing to be overly joyed about, but it's charming even if it's not firing on all cylinders.</div><div class=\"text show-more__control\">.....and so far this reviewer has enjoyed SHE-HULK: ATTORNEY AT LAW. Tatiana Maslany nails it as aspiring assistant district attorney Jennifer Walters who's hitching a ride with her favorite cousin Bruce Banner (welcome back, Mark Ruffalo) in his sports utility vehicle in the mountains of Mexico when a close encounter with a flying saucer from outer space forces them off a road and into a forest. They survive the crash, and his green blood seeps into her open wound, with the result that she transforms into a huge 6-foot-7-inch green-skinned giantess. Now it's up to Bruce to teach Jennifer how to Hulk with finesse and grace. She winds up teaching him a few things, of course, and they get into a physical altercation that becomes a visual effects workout. Our heroine returns to the Big Apple to try her case in court, but winds up fighting super-strong villainess Titania (Jameela Jamil) and winning. But that gets her fired from the DA's office. Repeated attempts to secure employment end in failure. But she is hired by the prestigious law firm of Goodman, Lieber, Kurtzberg, and Goodman in the person of big-shot attorney Holden Holliway (Steve Coulter), who happens to be a senior partner. Jennifer gets a corner office with a spectacular view of the city and her best friend Nikki Ramos (Ginger Gonzaga), who's a paralegal. Only thing is, Jennifer has to defend the notorious Emil Blonsky (Tim Roth), also known as the Abomination who duked it out with that green-skinned giant in THE INCREDIBLE HULK (2008). And she has to do it as the She-Hulk. Whether Jennifer Walters wants it or not, she is destined to be s super heroine. Especially when the Abomination busts out of prison and is seen fighting at a mixed martial arts tournament. Welcome back Mark-Linn Baker (PERFECT STRANGERS) as Jennifer's dear old dad. To Kevin Feige, here's some advice: you have a good show on your hands. Don't blow it.</div><div class=\"text show-more__control\">There seems to be a lot of negativity around She-Hulk and I'm not sure why? It's fun, it's goofy and it's pretty entertaining. Obviously being from Marvel the production values are high but it's a tv show so you can't expect the bar to be as high as an Avengers movie.<br/><br/>The episodes are pretty short, I guess to keep the kids attention span long enough. Some Marvel shows aim high some go in a different direction and She-Hulk definitely goes down the family friendly popcorn all sat on the couch at tea time on a Saturday route. That isn't a bad thing and Marvel should be applauded for trying different things. There will be people who enjoy this that don't by enjoy Moon Knight or Avengers.<br/><br/>Overall I'd say give it a go.</div><div class=\"text show-more__control\">It's certainly not what you'd expect from Marvel.<br/><br/><ul><li>Obviously, the first thing that screams at you is the CGI, it's just not good</li><li>I think it was a very bad decision to go with breaking the fourth wall, when deadpool does it, it's funny and worth it but when they do it, I find it cringeworthy</li><li>The character dialogues are just flat and uninteresting... It's hard to focus, I often find myself drifting off, not captivating at all</li><li>The show lacks a certain \"seriousness\": a whole episode focusing on that elf...wtf... Abomination's pen pals, even how wong conducts himself in the room.... I feel like they're trying to be funny but failing miserably</li><li>I could have used without that twerking scene.... remember when post credit scenes in the MCU were used to recruit avengers, or introduce thanos... and now this</li></ul><br/><br/>They story is moving forward, they've introduced new characters and even teased others but a story shouldn't be about what you are doing, it should be about HOW you do it.... that's what appeals to the audience and this show isn't appealing to me at all.<br/><br/>I gave it the 5 because I know a lot of hard work went into making this, and it's insanely hard to pull off making a show, but I just don't think it's a good show.</div><div class=\"text show-more__control\">Honestly I think everyone who talks bad about this show just simply hates fun. It's on the nose. Meta. It's supposed to be like this. I think it inherits the spirit of the successful comic book run, and it doesn't have to be so much in line with the other titles in the MCU.<br/><br/>As a fan of 2000s pop culture juggernauts like Mean Girls I get the vibe. It's irreverent, and messy. And I love it. For me.<br/><br/>It's a fun show: get over yourselves. Also if there was a man playing the lead , y'all would've loved it. I recommend it for anyone who likes stupid jokes, pop cultural references. I must say the CGI is kinda crappy though.</div><div class=\"text show-more__control\">But it's honestly not bad. Only one episode in, but it had its moments. The cgi wasn't near as bad as the trailers made it look. I didn't find myself staring at her face cringing like I did before so good on them for fixing it. Some of the jokes landed and some didn't, but I think a lot of them were in the trailers so maybe that's why. I thought her automatically being better at everything than Bruce without any real explanation other than \"girl power\" was kinda lame, and relying on the whole \"men are the devil and keeping us women down\" was unnecessary. Should be able to write a female led show without having to rely on those tropes, so here's hoping it's not constantly present during the whole series. I did like the moments of Bruce talking about Tony and filling in some of the stuff they left out about smart hulk. All in all I was surprised I enjoyed it as much as I did, but it definitely has room for improvement. Also, make sure to stay for the after credits, only time I actually laughed out loud was when they cut right before she finished her line.</div><div class=\"text show-more__control\">Great choice in casting so far as Tatiana gracefully places herself in the shoes of Jennifer Walters. She delivers the material in a way that fits neatly in the mold of the MCU. That said, the writing is where the show is lacking. In the first episode we get a chance to see how JW deals with becoming She-Hulk, except we never see her have to deal with anything. Instead, we are presented with a montage of her training with the ultimate conclusion being that she is simply naturally more capable. This explanation is acceptable because it is a TV show and her background needed to be quickly established; however, it was done so in a way that completely undermined the effort that Bruce had to put over the course of 15+ years to control his hulk powers. His entire growth arc was effectively thrown away in one 40 minute episode. Although it meant to comedic, it was unnecessary for the overall message.</div><div class=\"text show-more__control\">So far I'm really enjoying this show. It's fun and different and lighthearted, while still dealing with very real topics.<br/><br/>Yes, there are some odd parts to it, but those don't really effect it. A comedy is meant to be fun and stupid.<br/><br/>Seen in a Marvel context, it is very different from their usual style. Personally, I feel it's good this show is taking a different route from the action. The comedy suits it well, and out of Marvel context it's a fun show that you don't particularly need to have watched the rest of the MCU to enjoy.<br/><br/>For those considering watching it and who are reading the reviews here... I'd say try it and form your own opinion. Everyone has different tastes and it just so happens most of the reviews here seem to be from people who don't like it.</div><div class=\"text show-more__control\">I had very high hopes for the She-Hulk series having been a big fan of the comics and owning quite a few #1 issues of the comic.<br/><br/>I don't dislike the series but I'm not waiting on the edge of my seat for the next episode to drop.<br/><br/>We are only on episode 2 so I'm still holding out for the series to become more engaging!<br/><br/>CGI Is ok but it's obvious that the main charter is not \"real\".<br/><br/>Story is kinda boring so far and I'm not really caring about any of the characters.<br/><br/>Look of the series, other than the \"ok\" CGI is really nice.<br/><br/>I went into the She-Hulk series hoping that it would be on par with Hawkeye. A series that many people weren't aware of the story but left as a bigger fan of the property..<br/><br/>Fingers crossed that She-Hulk develops into a must watch show.</div>"
      ]
     },
     "execution_count": 40,
     "metadata": {},
     "output_type": "execute_result"
    }
   ],
   "source": [
    "comentarios"
   ]
  },
  {
   "cell_type": "code",
   "execution_count": null,
   "metadata": {},
   "outputs": [],
   "source": [
    "sentencias = nltk.sent_tokenize(comentarios.text)"
   ]
  }
 ],
 "metadata": {
  "kernelspec": {
   "display_name": "Python 3.9.7 ('base')",
   "language": "python",
   "name": "python3"
  },
  "language_info": {
   "codemirror_mode": {
    "name": "ipython",
    "version": 3
   },
   "file_extension": ".py",
   "mimetype": "text/x-python",
   "name": "python",
   "nbconvert_exporter": "python",
   "pygments_lexer": "ipython3",
   "version": "3.9.7"
  },
  "orig_nbformat": 4,
  "vscode": {
   "interpreter": {
    "hash": "f08154012ddadd8e950e6e9e035c7a7b32c136e7647e9b7c77e02eb723a8bedb"
   }
  }
 },
 "nbformat": 4,
 "nbformat_minor": 2
}
